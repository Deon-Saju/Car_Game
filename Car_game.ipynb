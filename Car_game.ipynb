{
  "nbformat": 4,
  "nbformat_minor": 0,
  "metadata": {
    "colab": {
      "name": "Car game.ipynb",
      "provenance": []
    },
    "kernelspec": {
      "name": "python3",
      "display_name": "Python 3"
    },
    "language_info": {
      "name": "python"
    }
  },
  "cells": [
    {
      "cell_type": "code",
      "metadata": {
        "colab": {
          "base_uri": "https://localhost:8080/"
        },
        "id": "3IsuXbyUtdvR",
        "outputId": "776e9024-e853-4d86-8f97-33595c788905"
      },
      "source": [
        "command=\"\"\n",
        "started=False\n",
        "while True:\n",
        "  command=input('>').lower()\n",
        "  if command==\"start\":\n",
        "    if started:\n",
        "      print('Already started')\n",
        "    \n",
        "    else:\n",
        "      started=True\n",
        "      print('The car has started')\n",
        "      print('Hurray')\n",
        "  elif command==\"stop\":\n",
        "    if not started:\n",
        "      print('The car already stopped')\n",
        "    else:\n",
        "      started=False\n",
        "      print('The car stopped')\n",
        "  elif command==\"help\":\n",
        "    print('''\n",
        "    Start- To start the car\n",
        "    Stop- To stop the car\n",
        "    Quit- To quit the game''')\n",
        "  elif command==\"quit\":\n",
        "    break\n",
        "  else:\n",
        "    print(\"I don't understand\")\n"
      ],
      "execution_count": 5,
      "outputs": [
        {
          "output_type": "stream",
          "text": [
            ">stop\n",
            "The car already stopped\n",
            ">start\n",
            "The car has started\n",
            "Hurray\n",
            ">quit\n"
          ],
          "name": "stdout"
        }
      ]
    }
  ]
}